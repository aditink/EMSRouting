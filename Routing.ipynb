{
 "cells": [
  {
   "cell_type": "markdown",
   "metadata": {},
   "source": [
    "# EMS ROUTING"
   ]
  },
  {
   "cell_type": "code",
   "execution_count": null,
   "metadata": {},
   "outputs": [],
   "source": [
    "import folium\n",
    "import json\n",
    "import numpy as np\n",
    "\n",
    "from h3 import h3\n",
    "from folium.plugins import MarkerCluster"
   ]
  },
  {
   "cell_type": "code",
   "execution_count": null,
   "metadata": {},
   "outputs": [],
   "source": [
    "m = folium.Map(location=[42.4485, -76.4804], zoom_start=13)\n",
    "\n",
    "style = lambda x: {'fillColor': '#100000', 'fillOpacity':0}\n",
    " \n",
    "with open('ithaca.json','r') as f:\n",
    "    geoJson = json.load(f)\n",
    "    \n",
    "geo = folium.GeoJson(\n",
    "    geoJson,\n",
    "    name='boundary',\n",
    "    style_function=style\n",
    ").add_to(m)"
   ]
  },
  {
   "cell_type": "code",
   "execution_count": null,
   "metadata": {},
   "outputs": [],
   "source": [
    "# Resolution goes from 0..15, with 15 being the max\n",
    "res = 10\n",
    "\n",
    "hexagons = list(h3.polyfill(geoJson,res, True))\n",
    "edge = h3.edge_length(res) * 1e3\n",
    "\n",
    "print(\"Num Hexagons:\", len(hexagons))\n",
    "print(\"Edge Length (m):\", edge)"
   ]
  },
  {
   "cell_type": "code",
   "execution_count": null,
   "metadata": {},
   "outputs": [],
   "source": [
    "def grid_style(feature):\n",
    "    return {\n",
    "        'fillOpacity': 0.3,\n",
    "        'color': 'red'\n",
    "    }\n",
    "\n",
    "# Get hexagon coordinates\n",
    "coords = list(map(lambda x: [h3.h3_to_geo_boundary(x, True)], hexagons))\n",
    "gridJson = {}\n",
    "geom = {}\n",
    "geom[\"type\"] = \"MultiPolygon\"\n",
    "geom[\"coordinates\"] = coords\n",
    "\n",
    "gridJson[\"type\"] = \"Feature\"\n",
    "gridJson[\"geometry\"] = geom\n",
    "\n",
    "# Plot Grid\n",
    "folium.GeoJson(\n",
    "    gridJson,\n",
    "    name='grid',\n",
    "    style_function=grid_style\n",
    "    ).add_to(m)\n",
    "\n",
    "# Add Parking Markers\n",
    "park_spots = np.loadtxt('parking.txt')\n",
    "\n",
    "#Create a Folium feature group for this layer\n",
    "pt_lyr = folium.FeatureGroup(name = 'parking spots')\n",
    "\n",
    "#Add the clustered points of parking spots to this this layer\n",
    "pt_lyr.add_child(MarkerCluster(locations = park_spots))\n",
    "m.add_child(pt_lyr)\n",
    "\n",
    "folium.LayerControl().add_to(m)\n",
    "\n",
    "m.save('routing.html')\n",
    "m"
   ]
  }
 ],
 "metadata": {
  "kernelspec": {
   "display_name": "Anaconda",
   "language": "python",
   "name": "anaconda"
  },
  "language_info": {
   "codemirror_mode": {
    "name": "ipython",
    "version": 3
   },
   "file_extension": ".py",
   "mimetype": "text/x-python",
   "name": "python",
   "nbconvert_exporter": "python",
   "pygments_lexer": "ipython3",
   "version": "3.6.6"
  }
 },
 "nbformat": 4,
 "nbformat_minor": 2
}
